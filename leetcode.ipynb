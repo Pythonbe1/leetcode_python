{
 "cells": [
  {
   "cell_type": "code",
   "execution_count": 32,
   "id": "dc9b2edf",
   "metadata": {},
   "outputs": [],
   "source": [
    "def romain(s):\n",
    "    d = {'I':1, 'V':5, 'X':10, 'L':50, 'C':100, 'D':500, 'M':1000}\n",
    "    num = 0\n",
    "    for i in range(len(s)-1):        \n",
    "        if d[s[i]] < d[s[i+1]]:\n",
    "            num -= d[s[i]]\n",
    "        # If not, it adds\n",
    "        else:\n",
    "            num += d[s[i]]\n",
    "    # Add the last number\n",
    "    num += d[s[-1]]\n",
    "    return num               "
   ]
  },
  {
   "cell_type": "code",
   "execution_count": 33,
   "id": "c5426291",
   "metadata": {},
   "outputs": [
    {
     "data": {
      "text/plain": [
       "9"
      ]
     },
     "execution_count": 33,
     "metadata": {},
     "output_type": "execute_result"
    }
   ],
   "source": [
    "romain('IX')"
   ]
  },
  {
   "cell_type": "code",
   "execution_count": 34,
   "id": "9f644471",
   "metadata": {},
   "outputs": [],
   "source": [
    "def twosum(nums,target):    \n",
    "    for i in range(len(nums)):\n",
    "        for j in range(i+1,len(nums)):\n",
    "            if target==nums[i]+nums[j]:                \n",
    "                return [i,j]"
   ]
  },
  {
   "cell_type": "code",
   "execution_count": 35,
   "id": "946df16a",
   "metadata": {},
   "outputs": [
    {
     "data": {
      "text/plain": [
       "[1, 2]"
      ]
     },
     "execution_count": 35,
     "metadata": {},
     "output_type": "execute_result"
    }
   ],
   "source": [
    "nums = [2,7,3]\n",
    "target = 10\n",
    "twosum(nums,target)"
   ]
  },
  {
   "cell_type": "code",
   "execution_count": 36,
   "id": "389d89ce",
   "metadata": {},
   "outputs": [],
   "source": [
    "def isPallindrom(x):\n",
    "    if str(x)==str(x)[::-1]:\n",
    "        print (True)\n",
    "    else:\n",
    "        print (False ) "
   ]
  },
  {
   "cell_type": "code",
   "execution_count": 37,
   "id": "bd0debb9",
   "metadata": {},
   "outputs": [
    {
     "name": "stdout",
     "output_type": "stream",
     "text": [
      "True\n"
     ]
    }
   ],
   "source": [
    "isPallindrom(12321)"
   ]
  },
  {
   "cell_type": "code",
   "execution_count": 38,
   "id": "7ac72cef",
   "metadata": {},
   "outputs": [],
   "source": [
    "def addTwoNUmbers(num1,num2):\n",
    "    inMind=0\n",
    "    result=[]\n",
    "    if len(num1)>=len(num2):\n",
    "        num2.extend([0] * (len(num1)-len(num2))) \n",
    "    else:\n",
    "        num1.extend([0] * (len(num2)-len(num1)))        \n",
    "    for i in range(len(num1)):\n",
    "        a=(num1[i]+num2[i])%10+inMind\n",
    "        inMind=(num1[i]+num2[i])//10            \n",
    "        result.append(a)\n",
    "    return result"
   ]
  },
  {
   "cell_type": "code",
   "execution_count": 39,
   "id": "7f90f74e",
   "metadata": {},
   "outputs": [
    {
     "data": {
      "text/plain": [
       "[0, 7, 0, 7, 1, 10, 9]"
      ]
     },
     "execution_count": 39,
     "metadata": {},
     "output_type": "execute_result"
    }
   ],
   "source": [
    "l1 = [9,4,3,1,2]\n",
    "l2 = [1,2,7,5,9,9,9]\n",
    "addTwoNUmbers(l1,l2)"
   ]
  },
  {
   "cell_type": "code",
   "execution_count": 40,
   "id": "879fe50d",
   "metadata": {},
   "outputs": [],
   "source": [
    "from collections import Counter\n",
    "def canConstruct(ransomNote, magazine):\n",
    "    magazineCounter = Counter(magazine)\n",
    "    ransomNoteCounter = Counter(ransomNote)\n",
    "\n",
    "    for item in ransomNoteCounter:\n",
    "        if magazineCounter[item] < ransomNoteCounter[item]:\n",
    "            return False\n",
    "\n",
    "    return True\n",
    "                "
   ]
  },
  {
   "cell_type": "code",
   "execution_count": 41,
   "id": "f26121e5",
   "metadata": {},
   "outputs": [
    {
     "data": {
      "text/plain": [
       "True"
      ]
     },
     "execution_count": 41,
     "metadata": {},
     "output_type": "execute_result"
    }
   ],
   "source": [
    "ransomNote='aab'\n",
    "magazine='baa'\n",
    "canConstruct(ransomNote,magazine)"
   ]
  },
  {
   "cell_type": "code",
   "execution_count": 42,
   "id": "f25efacd",
   "metadata": {},
   "outputs": [],
   "source": [
    "def fizzBuzz(n):\n",
    "    result=[]\n",
    "    for i in range(1,n+1):\n",
    "        if i%3==0 and i%5==0:\n",
    "            result.append('FizzBuzz')\n",
    "        elif i%3==0:\n",
    "            result.append('Fizz')\n",
    "        elif i%5==0:\n",
    "            result.append('Buzz')\n",
    "        else:\n",
    "            result.append(str(i))\n",
    "    return result"
   ]
  },
  {
   "cell_type": "code",
   "execution_count": 43,
   "id": "3cc71430",
   "metadata": {},
   "outputs": [
    {
     "data": {
      "text/plain": [
       "['1', '2', 'Fizz', '4', 'Buzz']"
      ]
     },
     "execution_count": 43,
     "metadata": {},
     "output_type": "execute_result"
    }
   ],
   "source": [
    "fizzBuzz(5)"
   ]
  },
  {
   "cell_type": "code",
   "execution_count": 44,
   "id": "dd126be8",
   "metadata": {},
   "outputs": [],
   "source": [
    "def numberOfSteps(num):\n",
    "    count=0\n",
    "    while num!=0:\n",
    "        if num%2==0:\n",
    "            num=num/2\n",
    "        else:\n",
    "            num=num-1\n",
    "        count+=1\n",
    "    return count"
   ]
  },
  {
   "cell_type": "code",
   "execution_count": 45,
   "id": "7041c433",
   "metadata": {},
   "outputs": [
    {
     "data": {
      "text/plain": [
       "6"
      ]
     },
     "execution_count": 45,
     "metadata": {},
     "output_type": "execute_result"
    }
   ],
   "source": [
    "numberOfSteps(14)"
   ]
  },
  {
   "cell_type": "code",
   "execution_count": 46,
   "id": "bbf3d2d3",
   "metadata": {},
   "outputs": [],
   "source": [
    "def maximumWealth(accounts):\n",
    "    result=[]\n",
    "    for account in accounts:\n",
    "        summation=0\n",
    "        for j in range(len(account)):\n",
    "            summation+=account[j]        \n",
    "        result.append(summation)\n",
    "    return max(result)"
   ]
  },
  {
   "cell_type": "code",
   "execution_count": 47,
   "id": "d2214e47",
   "metadata": {},
   "outputs": [
    {
     "data": {
      "text/plain": [
       "17"
      ]
     },
     "execution_count": 47,
     "metadata": {},
     "output_type": "execute_result"
    }
   ],
   "source": [
    "accounts=[[2, 8, 7], [7, 1, 3], [1, 9, 5]]\n",
    "maximumWealth(accounts)"
   ]
  },
  {
   "cell_type": "code",
   "execution_count": 48,
   "id": "9f24e16e",
   "metadata": {},
   "outputs": [],
   "source": [
    "def isPalindrome(head):\n",
    "    if head==head[::-1]:\n",
    "        return True\n",
    "    else:\n",
    "        return False"
   ]
  },
  {
   "cell_type": "code",
   "execution_count": 21,
   "id": "6cf233f6",
   "metadata": {},
   "outputs": [
    {
     "data": {
      "text/plain": [
       "True"
      ]
     },
     "execution_count": 21,
     "metadata": {},
     "output_type": "execute_result"
    }
   ],
   "source": [
    "head=[1,2,2,1]\n",
    "isPalindrome(head)"
   ]
  },
  {
   "cell_type": "code",
   "execution_count": 22,
   "id": "5ccf035d",
   "metadata": {},
   "outputs": [],
   "source": [
    "def middleNode(head):\n",
    "    if len(head)%2!=0:\n",
    "        middle=len(head)//2\n",
    "        return head[middle:len(head)+1]\n",
    "    else:\n",
    "        middle=len(head)//2\n",
    "        return head[middle:len(head)+1]"
   ]
  },
  {
   "cell_type": "code",
   "execution_count": 23,
   "id": "777b67f4",
   "metadata": {},
   "outputs": [
    {
     "data": {
      "text/plain": [
       "[4, 5, 6]"
      ]
     },
     "execution_count": 23,
     "metadata": {},
     "output_type": "execute_result"
    }
   ],
   "source": [
    "head = [1,2,3,4,5,6]\n",
    "middleNode(head)"
   ]
  },
  {
   "cell_type": "code",
   "execution_count": 24,
   "id": "56ab274a",
   "metadata": {},
   "outputs": [],
   "source": [
    "def foursum(nums,target):\n",
    "    result=[]\n",
    "    for i in range(len(nums)):\n",
    "        b=nums[i+1:]+nums[:i]\n",
    "        if target==sum(b)+nums[i]:\n",
    "            b.append(nums[i])\n",
    "            result.append(b)            \n",
    "    return result  "
   ]
  },
  {
   "cell_type": "code",
   "execution_count": 25,
   "id": "097e4ef0",
   "metadata": {},
   "outputs": [
    {
     "data": {
      "text/plain": [
       "[[2, 2, 2, 2], [2, 2, 2, 2], [2, 2, 2, 2], [2, 2, 2, 2]]"
      ]
     },
     "execution_count": 25,
     "metadata": {},
     "output_type": "execute_result"
    }
   ],
   "source": [
    "nums=[2,2,2,2]\n",
    "target=8\n",
    "foursum(nums,target)"
   ]
  },
  {
   "cell_type": "code",
   "execution_count": 26,
   "id": "2dad2cac",
   "metadata": {},
   "outputs": [],
   "source": [
    "a=[1,2,3,4,5,6]\n",
    "fact=1\n",
    "def fact(n):\n",
    "    result=1\n",
    "    for i in range(1,n+1):\n",
    "        result=result*i\n",
    "    return result\n",
    "def arrangement(n,m):\n",
    "    return fact(n)//(fact(n-m)*fact(m))"
   ]
  },
  {
   "cell_type": "code",
   "execution_count": 27,
   "id": "794768c9",
   "metadata": {
    "scrolled": true
   },
   "outputs": [],
   "source": [
    "result=[]\n",
    "for i in range(len(a)):    \n",
    "    need=a[i]\n",
    "    left=a[:i]+a[i+1:]\n",
    "    for j in left:\n",
    "        temp=[]\n",
    "        temp.append(need)\n",
    "        temp.append(j)\n",
    "        result.append(temp)"
   ]
  },
  {
   "cell_type": "code",
   "execution_count": 28,
   "id": "897bb3cc",
   "metadata": {},
   "outputs": [],
   "source": [
    "def isValid(s):\n",
    "    stack = []\n",
    "    for el in s:\n",
    "        if el in ['(', '{', '[']:\n",
    "            stack.append(el)\n",
    "        elif (len(stack) > 0 and ((stack[-1] == '(' and el == ')')\n",
    "            or (stack[-1] == '[' and el == ']')\n",
    "            or (stack[-1] == '{' and el == '}'))):\n",
    "            stack.pop()\n",
    "        else:\n",
    "            return False\n",
    "    return len(stack) == 0"
   ]
  },
  {
   "cell_type": "code",
   "execution_count": 29,
   "id": "bfeaea46",
   "metadata": {},
   "outputs": [
    {
     "data": {
      "text/plain": [
       "False"
      ]
     },
     "execution_count": 29,
     "metadata": {},
     "output_type": "execute_result"
    }
   ],
   "source": [
    "isValid('[]{}[][][')"
   ]
  },
  {
   "cell_type": "code",
   "execution_count": 30,
   "id": "8487c12b",
   "metadata": {},
   "outputs": [],
   "source": [
    "def lengthOfLastWord(s):\n",
    "    s=s.split()[-1]\n",
    "    return len(s)"
   ]
  },
  {
   "cell_type": "code",
   "execution_count": 31,
   "id": "9cb5ab9c",
   "metadata": {},
   "outputs": [
    {
     "data": {
      "text/plain": [
       "6"
      ]
     },
     "execution_count": 31,
     "metadata": {},
     "output_type": "execute_result"
    }
   ],
   "source": [
    "s = \"luffy is still joyboy\"\n",
    "lengthOfLastWord(s)"
   ]
  },
  {
   "cell_type": "code",
   "execution_count": 77,
   "id": "3db6d679",
   "metadata": {},
   "outputs": [],
   "source": [
    "import sys\n",
    "def thirdMax(nums):\n",
    "    first_max=nums[0]\n",
    "    second_max=None\n",
    "    third_max=None\n",
    "    if len(nums)<2:\n",
    "        for i in nums:\n",
    "            if i>first_max:\n",
    "                first_max=i\n",
    "        return first_max\n",
    "    \n",
    "    for i in nums:\n",
    "        if i>first_max:\n",
    "            second_max=first_max\n",
    "            first_max=i\n",
    "    for j in nums:\n",
    "        if j>third_max and j<second_max:\n",
    "            third_max=j\n",
    "        return third_max"
   ]
  },
  {
   "cell_type": "code",
   "execution_count": 89,
   "id": "009a78ec",
   "metadata": {},
   "outputs": [],
   "source": [
    "def reverseString(s):\n",
    "    l=0\n",
    "    r=len(s)-1\n",
    "    while l<r:\n",
    "        s[l],s[r]=s[r],s[l]\n",
    "        l+=1\n",
    "        r-=1        \n",
    "    return s"
   ]
  },
  {
   "cell_type": "code",
   "execution_count": 90,
   "id": "0adfb37b",
   "metadata": {},
   "outputs": [
    {
     "data": {
      "text/plain": [
       "['o', 'l', 'l', 'e', 'h']"
      ]
     },
     "execution_count": 90,
     "metadata": {},
     "output_type": "execute_result"
    }
   ],
   "source": [
    "s = [\"h\",\"e\",\"l\",\"l\",\"o\"]\n",
    "reverseString(s)\n"
   ]
  },
  {
   "cell_type": "code",
   "execution_count": 96,
   "id": "05091709",
   "metadata": {},
   "outputs": [],
   "source": [
    "import re\n",
    "def isPalindrome(s):\n",
    "    if len(s)==0:\n",
    "        return True\n",
    "    s=re.sub('[^A-Za-z0-9]+', '', s.lower()) \n",
    "    if s==s[::-1]:\n",
    "        return True\n",
    "    else:\n",
    "        return False\n",
    "\n",
    "  "
   ]
  },
  {
   "cell_type": "code",
   "execution_count": 98,
   "id": "ed929e75",
   "metadata": {},
   "outputs": [
    {
     "data": {
      "text/plain": [
       "True"
      ]
     },
     "execution_count": 98,
     "metadata": {},
     "output_type": "execute_result"
    }
   ],
   "source": [
    "mystring=\" \"\n",
    "isPalindrome(mystring) "
   ]
  },
  {
   "cell_type": "code",
   "execution_count": 105,
   "id": "2cb36f2c",
   "metadata": {},
   "outputs": [],
   "source": [
    "def subtractProductAndSum(n):\n",
    "    production,summation=1,0\n",
    "    while n>0:\n",
    "        summation+=n%10\n",
    "        production*=n%10\n",
    "        n=n//10\n",
    "    return production-summation"
   ]
  },
  {
   "cell_type": "code",
   "execution_count": 108,
   "id": "1d80623b",
   "metadata": {},
   "outputs": [
    {
     "data": {
      "text/plain": [
       "21"
      ]
     },
     "execution_count": 108,
     "metadata": {},
     "output_type": "execute_result"
    }
   ],
   "source": [
    "subtractProductAndSum(4421)"
   ]
  },
  {
   "cell_type": "code",
   "execution_count": 3,
   "id": "549ebcb0",
   "metadata": {},
   "outputs": [],
   "source": [
    "def maxSubArray(nums):\n",
    "    summation=0\n",
    "    max_sum=nums[0]\n",
    "    for i in range(len(nums)):\n",
    "        if summation<0:\n",
    "            summation=0\n",
    "        summation+=nums[i]\n",
    "        max_sum=max(max_sum,summation)\n",
    "    return max_sum\n",
    "    "
   ]
  },
  {
   "cell_type": "code",
   "execution_count": 4,
   "id": "6e6e6082",
   "metadata": {},
   "outputs": [
    {
     "data": {
      "text/plain": [
       "6"
      ]
     },
     "execution_count": 4,
     "metadata": {},
     "output_type": "execute_result"
    }
   ],
   "source": [
    "nums = [-2,1,-3,4,-1,2,1,-5,4]\n",
    "maxSubArray(nums)"
   ]
  },
  {
   "cell_type": "code",
   "execution_count": 53,
   "id": "29d19d4a",
   "metadata": {},
   "outputs": [],
   "source": [
    "def merge(nums1, m, nums2, n):\n",
    "    if m!=0 and n!=0:\n",
    "        nums1=nums1[:m]\n",
    "        nums2=nums2[:n]\n",
    "        nums1.extend(nums2)\n",
    "        temp=list(nums1)\n",
    "    elif m==0:\n",
    "        temp=list(nums2)\n",
    "    elif n==0:\n",
    "          temp=list(nums1)\n",
    "            \n",
    "    for i in range(len(temp)):\n",
    "        for j in range(i,len(temp)):\n",
    "\n",
    "            if temp[j]<temp[i]:\n",
    "                temp[i],temp[j]=temp[j],temp[i]\n",
    "            else:\n",
    "                continue                       \n",
    "    \n",
    "    return temp"
   ]
  },
  {
   "cell_type": "code",
   "execution_count": 54,
   "id": "05613945",
   "metadata": {},
   "outputs": [
    {
     "data": {
      "text/plain": [
       "[1, 2, 2, 3, 5, 6]"
      ]
     },
     "execution_count": 54,
     "metadata": {},
     "output_type": "execute_result"
    }
   ],
   "source": [
    "nums1 = [1,2,3,0,0,0]\n",
    "m = 3\n",
    "nums2 = [2,5,6]\n",
    "n = 3\n",
    "merge(nums1, m, nums2, n)"
   ]
  },
  {
   "cell_type": "code",
   "execution_count": 60,
   "id": "388e3934",
   "metadata": {},
   "outputs": [],
   "source": [
    "def productExceptSelf(nums):\n",
    "    result=[]\n",
    "    for i in range(len(nums)):\n",
    "        a=nums[:]\n",
    "        a.pop(i)\n",
    "        product=1\n",
    "        for j in range(len(a)):\n",
    "            product*=a[j]\n",
    "        result.append(product)\n",
    "    return result"
   ]
  },
  {
   "cell_type": "code",
   "execution_count": 62,
   "id": "b404b7a2",
   "metadata": {},
   "outputs": [
    {
     "data": {
      "text/plain": [
       "[0, 0, 9, 0, 0]"
      ]
     },
     "execution_count": 62,
     "metadata": {},
     "output_type": "execute_result"
    }
   ],
   "source": [
    "nums = [-1,1,0,-3,3]\n",
    "productExceptSelf(nums)"
   ]
  },
  {
   "cell_type": "code",
   "execution_count": 69,
   "id": "549803de",
   "metadata": {},
   "outputs": [],
   "source": [
    "def missingNumber(nums):\n",
    "    \n",
    "    for i in range(0,len(nums)+1,1):\n",
    "        if i not in nums:\n",
    "            return (i)"
   ]
  },
  {
   "cell_type": "code",
   "execution_count": 72,
   "id": "18ce101d",
   "metadata": {},
   "outputs": [
    {
     "data": {
      "text/plain": [
       "2"
      ]
     },
     "execution_count": 72,
     "metadata": {},
     "output_type": "execute_result"
    }
   ],
   "source": [
    "тums = [0,1]\n",
    "missingNumber(nums)"
   ]
  },
  {
   "cell_type": "code",
   "execution_count": 76,
   "id": "b6419c98",
   "metadata": {},
   "outputs": [],
   "source": [
    "def findMaxAverage(nums, k):\n",
    "    summation=0\n",
    "    if len(nums)!=1:\n",
    "        for i in range(1,k+1,1):\n",
    "            summation+=nums[i]\n",
    "    else:\n",
    "        summation=nums[0]\n",
    "    return summation/k"
   ]
  },
  {
   "cell_type": "code",
   "execution_count": 78,
   "id": "4e44c10e",
   "metadata": {},
   "outputs": [
    {
     "data": {
      "text/plain": [
       "12.75"
      ]
     },
     "execution_count": 78,
     "metadata": {},
     "output_type": "execute_result"
    }
   ],
   "source": [
    "nums = [1,12,-5,-6,50,3]\n",
    "k = 4\n",
    "findMaxAverage(nums, k)"
   ]
  },
  {
   "cell_type": "code",
   "execution_count": 89,
   "id": "f104aced",
   "metadata": {},
   "outputs": [],
   "source": [
    "def sumRegion(matrix,row1, col1, row2, col2):\n",
    "    summation=0\n",
    "    for i in range(row1,col1+1,1):\n",
    "        for j in range(row2,col2+1,1):\n",
    "            summation+=matrix[i][j]\n",
    "    return summation"
   ]
  },
  {
   "cell_type": "code",
   "execution_count": 97,
   "id": "2bb497ac",
   "metadata": {
    "collapsed": true
   },
   "outputs": [
    {
     "ename": "IndexError",
     "evalue": "list index out of range",
     "output_type": "error",
     "traceback": [
      "\u001b[1;31m---------------------------------------------------------------------------\u001b[0m",
      "\u001b[1;31mIndexError\u001b[0m                                Traceback (most recent call last)",
      "\u001b[1;32m<ipython-input-97-a8289ad7bf76>\u001b[0m in \u001b[0;36m<module>\u001b[1;34m\u001b[0m\n\u001b[0;32m      1\u001b[0m \u001b[0mnums\u001b[0m\u001b[1;33m=\u001b[0m\u001b[1;33m[\u001b[0m\u001b[1;33m[\u001b[0m\u001b[1;33m[\u001b[0m\u001b[1;33m[\u001b[0m\u001b[1;36m3\u001b[0m\u001b[1;33m,\u001b[0m\u001b[1;36m0\u001b[0m\u001b[1;33m,\u001b[0m\u001b[1;36m1\u001b[0m\u001b[1;33m,\u001b[0m\u001b[1;36m4\u001b[0m\u001b[1;33m,\u001b[0m\u001b[1;36m2\u001b[0m\u001b[1;33m]\u001b[0m\u001b[1;33m,\u001b[0m\u001b[1;33m[\u001b[0m\u001b[1;36m5\u001b[0m\u001b[1;33m,\u001b[0m\u001b[1;36m6\u001b[0m\u001b[1;33m,\u001b[0m\u001b[1;36m3\u001b[0m\u001b[1;33m,\u001b[0m\u001b[1;36m2\u001b[0m\u001b[1;33m,\u001b[0m\u001b[1;36m1\u001b[0m\u001b[1;33m]\u001b[0m\u001b[1;33m,\u001b[0m\u001b[1;33m[\u001b[0m\u001b[1;36m1\u001b[0m\u001b[1;33m,\u001b[0m\u001b[1;36m2\u001b[0m\u001b[1;33m,\u001b[0m\u001b[1;36m0\u001b[0m\u001b[1;33m,\u001b[0m\u001b[1;36m1\u001b[0m\u001b[1;33m,\u001b[0m\u001b[1;36m5\u001b[0m\u001b[1;33m]\u001b[0m\u001b[1;33m,\u001b[0m\u001b[1;33m[\u001b[0m\u001b[1;36m4\u001b[0m\u001b[1;33m,\u001b[0m\u001b[1;36m1\u001b[0m\u001b[1;33m,\u001b[0m\u001b[1;36m0\u001b[0m\u001b[1;33m,\u001b[0m\u001b[1;36m1\u001b[0m\u001b[1;33m,\u001b[0m\u001b[1;36m7\u001b[0m\u001b[1;33m]\u001b[0m\u001b[1;33m,\u001b[0m\u001b[1;33m[\u001b[0m\u001b[1;36m1\u001b[0m\u001b[1;33m,\u001b[0m\u001b[1;36m0\u001b[0m\u001b[1;33m,\u001b[0m\u001b[1;36m3\u001b[0m\u001b[1;33m,\u001b[0m\u001b[1;36m0\u001b[0m\u001b[1;33m,\u001b[0m\u001b[1;36m5\u001b[0m\u001b[1;33m]\u001b[0m\u001b[1;33m]\u001b[0m\u001b[1;33m]\u001b[0m\u001b[1;33m]\u001b[0m\u001b[1;33m\u001b[0m\u001b[1;33m\u001b[0m\u001b[0m\n\u001b[1;32m----> 2\u001b[1;33m \u001b[0msumRegion\u001b[0m\u001b[1;33m(\u001b[0m\u001b[0mnums\u001b[0m\u001b[1;33m,\u001b[0m\u001b[1;36m0\u001b[0m\u001b[1;33m,\u001b[0m \u001b[1;36m1\u001b[0m\u001b[1;33m,\u001b[0m \u001b[1;36m1\u001b[0m\u001b[1;33m,\u001b[0m \u001b[1;36m3\u001b[0m\u001b[1;33m)\u001b[0m\u001b[1;33m\u001b[0m\u001b[1;33m\u001b[0m\u001b[0m\n\u001b[0m",
      "\u001b[1;32m<ipython-input-89-9286ba5e2349>\u001b[0m in \u001b[0;36msumRegion\u001b[1;34m(matrix, row1, col1, row2, col2)\u001b[0m\n\u001b[0;32m      3\u001b[0m     \u001b[1;32mfor\u001b[0m \u001b[0mi\u001b[0m \u001b[1;32min\u001b[0m \u001b[0mrange\u001b[0m\u001b[1;33m(\u001b[0m\u001b[0mrow1\u001b[0m\u001b[1;33m,\u001b[0m\u001b[0mcol1\u001b[0m\u001b[1;33m+\u001b[0m\u001b[1;36m1\u001b[0m\u001b[1;33m,\u001b[0m\u001b[1;36m1\u001b[0m\u001b[1;33m)\u001b[0m\u001b[1;33m:\u001b[0m\u001b[1;33m\u001b[0m\u001b[1;33m\u001b[0m\u001b[0m\n\u001b[0;32m      4\u001b[0m         \u001b[1;32mfor\u001b[0m \u001b[0mj\u001b[0m \u001b[1;32min\u001b[0m \u001b[0mrange\u001b[0m\u001b[1;33m(\u001b[0m\u001b[0mrow2\u001b[0m\u001b[1;33m,\u001b[0m\u001b[0mcol2\u001b[0m\u001b[1;33m+\u001b[0m\u001b[1;36m1\u001b[0m\u001b[1;33m,\u001b[0m\u001b[1;36m1\u001b[0m\u001b[1;33m)\u001b[0m\u001b[1;33m:\u001b[0m\u001b[1;33m\u001b[0m\u001b[1;33m\u001b[0m\u001b[0m\n\u001b[1;32m----> 5\u001b[1;33m             \u001b[0msummation\u001b[0m\u001b[1;33m+=\u001b[0m\u001b[0mmatrix\u001b[0m\u001b[1;33m[\u001b[0m\u001b[0mi\u001b[0m\u001b[1;33m]\u001b[0m\u001b[1;33m[\u001b[0m\u001b[0mj\u001b[0m\u001b[1;33m]\u001b[0m\u001b[1;33m\u001b[0m\u001b[1;33m\u001b[0m\u001b[0m\n\u001b[0m\u001b[0;32m      6\u001b[0m     \u001b[1;32mreturn\u001b[0m \u001b[0msummation\u001b[0m\u001b[1;33m\u001b[0m\u001b[1;33m\u001b[0m\u001b[0m\n",
      "\u001b[1;31mIndexError\u001b[0m: list index out of range"
     ]
    }
   ],
   "source": [
    "nums=[[[[3,0,1,4,2],[5,6,3,2,1],[1,2,0,1,5],[4,1,0,1,7],[1,0,3,0,5]]]]\n",
    "sumRegion(nums,0, 1, 1, 3)"
   ]
  },
  {
   "cell_type": "code",
   "execution_count": 101,
   "id": "f10cf3c2",
   "metadata": {},
   "outputs": [
    {
     "data": {
      "text/plain": [
       "[3, 0, 1, 4, 2]"
      ]
     },
     "execution_count": 101,
     "metadata": {},
     "output_type": "execute_result"
    }
   ],
   "source": [
    "nums[0][0]"
   ]
  },
  {
   "cell_type": "code",
   "execution_count": 101,
   "id": "157e4bef",
   "metadata": {},
   "outputs": [],
   "source": [
    "def findWords(words):\n",
    "    f = list(\"qwertyuiop\")\n",
    "    s = list(\"asdfghjkl\")\n",
    "    t = list(\"zxcvbnm\")\n",
    "    ans = []\n",
    "    for word in words:\n",
    "        if any(elem in s  for elem in list(word.lower()))   :\n",
    "            ans.append(word)\n",
    "      \n",
    "    return ans   "
   ]
  },
  {
   "cell_type": "code",
   "execution_count": 63,
   "id": "51d60a0c",
   "metadata": {},
   "outputs": [],
   "source": [
    "def isToeplitzMatrix(matrix):\n",
    "    row=len(matrix)\n",
    "    col=len(matrix[0])\n",
    "    for r in range(1,row):\n",
    "        for c in range(1,col):\n",
    "            if matrix[r][c] != matrix[r-1][c-1]: \n",
    "                return False\n",
    "    return True\n",
    "    "
   ]
  },
  {
   "cell_type": "code",
   "execution_count": 64,
   "id": "f4760b77",
   "metadata": {},
   "outputs": [
    {
     "data": {
      "text/plain": [
       "True"
      ]
     },
     "execution_count": 64,
     "metadata": {},
     "output_type": "execute_result"
    }
   ],
   "source": [
    "matrix = [[1,2,3,4],[5,1,2,3],[9,5,1,2]]\n",
    "isToeplitzMatrix(matrix)"
   ]
  },
  {
   "cell_type": "code",
   "execution_count": 112,
   "id": "159d92ee",
   "metadata": {},
   "outputs": [],
   "source": [
    "def isRectangleOverlap(R1, R2):    \n",
    "    if R1[0]>=R2[2] or R1[2]<=R2[0] or R1[3]<=R2[1] or R1[1]>=R2[3]:\n",
    "        return False\n",
    "    return True\n",
    "       "
   ]
  },
  {
   "cell_type": "code",
   "execution_count": 113,
   "id": "c28e52cc",
   "metadata": {},
   "outputs": [
    {
     "data": {
      "text/plain": [
       "True"
      ]
     },
     "execution_count": 113,
     "metadata": {},
     "output_type": "execute_result"
    }
   ],
   "source": [
    "rec1 = [0,0,2,2]\n",
    "rec2 = [1,1,3,3]\n",
    "isRectangleOverlap(rec1, rec2)\n"
   ]
  },
  {
   "cell_type": "code",
   "execution_count": 120,
   "id": "420c3ce4",
   "metadata": {},
   "outputs": [],
   "source": [
    " def lemonadeChange(bills):\n",
    "    cash={5:0,10:0,20:0}\n",
    "    for bill in bills:\n",
    "        cash[bill]+=1\n",
    "        change=bill-5\n",
    "        if change==5:\n",
    "            if cash[5]>=3:\n",
    "                cash[5]-=1\n",
    "            else:\n",
    "                return False\n",
    "        elif change==15:\n",
    "            if cash[10]>=1 and cash[5]>=1:\n",
    "                cash[10]-=1\n",
    "                cash[5]-=1\n",
    "            elif cash[5]>=3:\n",
    "                cash[5]-=3\n",
    "            else:\n",
    "                return False      \n",
    "    return True"
   ]
  },
  {
   "cell_type": "code",
   "execution_count": 121,
   "id": "1c365be3",
   "metadata": {},
   "outputs": [
    {
     "data": {
      "text/plain": [
       "True"
      ]
     },
     "execution_count": 121,
     "metadata": {},
     "output_type": "execute_result"
    }
   ],
   "source": [
    "bills=[5,5,5,10,20]\n",
    "lemonadeChange(bills)"
   ]
  },
  {
   "cell_type": "code",
   "execution_count": 32,
   "id": "6e64cd2e",
   "metadata": {},
   "outputs": [],
   "source": [
    "def reverse_digit(num):\n",
    "    result=[]\n",
    "    while num>0:\n",
    "        digit=num%10\n",
    "        result.append(digit)\n",
    "        num=num//10    \n",
    "    return int(''.join([str(i)for i in result]))"
   ]
  },
  {
   "cell_type": "code",
   "execution_count": 33,
   "id": "f82c848f",
   "metadata": {},
   "outputs": [
    {
     "data": {
      "text/plain": [
       "654987"
      ]
     },
     "execution_count": 33,
     "metadata": {},
     "output_type": "execute_result"
    }
   ],
   "source": [
    "num=789456\n",
    "reverse_digit(num)"
   ]
  },
  {
   "cell_type": "code",
   "execution_count": 67,
   "id": "17f1327d",
   "metadata": {},
   "outputs": [],
   "source": [
    "def lengthOfLongestSubstring(s):\n",
    "    st_arr = []\n",
    "    for i in range(len(list(set(s)))-1,-1,-1):\n",
    "        for j in range(len(st_arr)):\n",
    "            st_arr.append(s[i]+st_arr[j])\n",
    "        st_arr.append(s[i])\n",
    "    maximum=len(st_arr[0])    \n",
    "    for k in range(len(st_arr)):\n",
    "        if len(st_arr[k])>maximum:\n",
    "            maximum=len(st_arr[k])        \n",
    "    return maximum    "
   ]
  },
  {
   "cell_type": "code",
   "execution_count": 68,
   "id": "679fcc01",
   "metadata": {},
   "outputs": [
    {
     "data": {
      "text/plain": [
       "4"
      ]
     },
     "execution_count": 68,
     "metadata": {},
     "output_type": "execute_result"
    }
   ],
   "source": [
    "s = \"pwwkew\"\n",
    "lengthOfLongestSubstring(s)"
   ]
  },
  {
   "cell_type": "code",
   "execution_count": 97,
   "id": "ec577efe",
   "metadata": {},
   "outputs": [],
   "source": [
    "def findMedianSortedArrays(nums1, nums2):\n",
    "    nums1.extend(nums2)\n",
    "    if len(sorted(nums1))%2==0:\n",
    "        return (sorted(nums1)[len(nums1)//2-1]+sorted(nums1)[len(nums1)//2])/2\n",
    "    else:\n",
    "        return sorted(nums1)[len(nums1)//2]"
   ]
  },
  {
   "cell_type": "code",
   "execution_count": 98,
   "id": "7c316839",
   "metadata": {},
   "outputs": [
    {
     "data": {
      "text/plain": [
       "2.5"
      ]
     },
     "execution_count": 98,
     "metadata": {},
     "output_type": "execute_result"
    }
   ],
   "source": [
    "nums1 = [1,2]\n",
    "nums2 = [3,4]\n",
    "findMedianSortedArrays(nums1, nums2)"
   ]
  },
  {
   "cell_type": "code",
   "execution_count": 237,
   "id": "bd3e7adb",
   "metadata": {},
   "outputs": [],
   "source": [
    "def threeSum(nums):    \n",
    "    if len(nums)==0:\n",
    "        return nums\n",
    "    elif nums[0]==0:\n",
    "        result=[]\n",
    "        return result\n",
    "    else:          \n",
    "        all_result=[]  \n",
    "        for i in range(len(nums)):        \n",
    "            for j in range(i+1,len(nums)):            \n",
    "                for k in range(j+1,len(nums)):\n",
    "                    result=[]\n",
    "                    if (nums[i]+nums[j]+nums[k]==0):\n",
    "                        result.append(nums[i])\n",
    "                        result.append(nums[j])\n",
    "                        result.append(nums[k])\n",
    "                    if len(result)!=0:\n",
    "                        all_result.append(sorted(result))\n",
    "        final=[]\n",
    "        for l in range(len(all_result)):\n",
    "            for m in range(l,len(all_result)):\n",
    "                if all_result[l]!=all_result[m]:\n",
    "                    final.append(all_result[l])\n",
    "        return final"
   ]
  },
  {
   "cell_type": "code",
   "execution_count": 239,
   "id": "6261f4bd",
   "metadata": {},
   "outputs": [
    {
     "data": {
      "text/plain": [
       "[[-1, 0, 1], [-1, -1, 2]]"
      ]
     },
     "execution_count": 239,
     "metadata": {},
     "output_type": "execute_result"
    }
   ],
   "source": [
    "nums = [-1,0,1,2,-1,-4]\n",
    "threeSum(nums)"
   ]
  },
  {
   "cell_type": "code",
   "execution_count": 258,
   "id": "ab7b5bc7",
   "metadata": {},
   "outputs": [],
   "source": [
    "def reverse(x):\n",
    "    \n",
    "    if x>0:\n",
    "        result=[]\n",
    "        while x>0:\n",
    "            result.append(x%10)\n",
    "            x=x//10\n",
    "        if result[-1]==0:\n",
    "            result.pop(-1)\n",
    "        return int(''.join(str(i) for i in result))\n",
    "    else:\n",
    "        result=[]\n",
    "        x=x*(-1)\n",
    "        while x>0:\n",
    "            result.append(x%10)\n",
    "            x=x//10\n",
    "        if result[-1]==0:\n",
    "            result.pop(-1)\n",
    "        return int(''.join(str(i) for i in result))*(-1)"
   ]
  },
  {
   "cell_type": "code",
   "execution_count": 261,
   "id": "5ce36493",
   "metadata": {},
   "outputs": [
    {
     "data": {
      "text/plain": [
       "-321"
      ]
     },
     "execution_count": 261,
     "metadata": {},
     "output_type": "execute_result"
    }
   ],
   "source": [
    "x=-123\n",
    "reverse(x)"
   ]
  },
  {
   "cell_type": "code",
   "execution_count": 7,
   "id": "bda2dddf",
   "metadata": {},
   "outputs": [],
   "source": [
    "def plusOne(digits):\n",
    "    digits=int(''.join(str(i) for i in digits))\n",
    "    digits=digits+1\n",
    "    result=[int(j) for j in str(digits)]\n",
    "    return result"
   ]
  },
  {
   "cell_type": "code",
   "execution_count": 9,
   "id": "cf05ab80",
   "metadata": {},
   "outputs": [
    {
     "data": {
      "text/plain": [
       "[1, 0]"
      ]
     },
     "execution_count": 9,
     "metadata": {},
     "output_type": "execute_result"
    }
   ],
   "source": [
    "digits = [9]\n",
    "plusOne(digits)\n"
   ]
  },
  {
   "cell_type": "code",
   "execution_count": 39,
   "id": "1a354e0b",
   "metadata": {},
   "outputs": [],
   "source": [
    "def mySqrt(x):\n",
    "    left = 0\n",
    "    right = x//2 # because a square root is always less than half that no.\n",
    "    if x==1 or x==0:\n",
    "        return x\n",
    "    while (left <=right ):\n",
    "        mid = (left + right) //2\n",
    "\n",
    "        # print (left, right,mid)\n",
    "\n",
    "        if mid * mid <= x < (mid+1)*(mid+1):\n",
    "            return mid\n",
    "        elif (mid*mid) > x:\n",
    "            right = mid -1\n",
    "        elif (mid*mid) < x:\n",
    "            left = mid +1\n",
    "        \n",
    "        "
   ]
  },
  {
   "cell_type": "code",
   "execution_count": 45,
   "id": "4fc98dd8",
   "metadata": {},
   "outputs": [
    {
     "data": {
      "text/plain": [
       "6"
      ]
     },
     "execution_count": 45,
     "metadata": {},
     "output_type": "execute_result"
    }
   ],
   "source": [
    "x=40\n",
    "mySqrt(x)"
   ]
  },
  {
   "cell_type": "code",
   "execution_count": 61,
   "id": "c3bc80a5",
   "metadata": {},
   "outputs": [],
   "source": [
    "def numJewelsInStones(jewels, stones):\n",
    "    count=0\n",
    "    for i in list(stones):\n",
    "        if i in list(jewels):\n",
    "            count+=1\n",
    "    return count"
   ]
  },
  {
   "cell_type": "code",
   "execution_count": 69,
   "id": "a3680b91",
   "metadata": {},
   "outputs": [
    {
     "data": {
      "text/plain": [
       "5"
      ]
     },
     "execution_count": 69,
     "metadata": {},
     "output_type": "execute_result"
    }
   ],
   "source": [
    "jewels = \"aA\"\n",
    "stones = \"aAAbaA\"\n",
    "numJewelsInStones(jewels, stones)"
   ]
  },
  {
   "cell_type": "code",
   "execution_count": 64,
   "id": "a74834cb",
   "metadata": {},
   "outputs": [],
   "source": [
    "def peakIndexInMountainArray(arr):\n",
    "    maximum=arr[0]\n",
    "    maximum_index=0    \n",
    "    for i in range(len(arr)):\n",
    "        if arr[i]>maximum:\n",
    "            maximum=arr[i]\n",
    "            maximum_index=i\n",
    "    return maximum_index"
   ]
  },
  {
   "cell_type": "code",
   "execution_count": 68,
   "id": "87b1b5b6",
   "metadata": {},
   "outputs": [
    {
     "data": {
      "text/plain": [
       "3"
      ]
     },
     "execution_count": 68,
     "metadata": {},
     "output_type": "execute_result"
    }
   ],
   "source": [
    "arr = [0,2,1,5]\n",
    "peakIndexInMountainArray(arr)"
   ]
  },
  {
   "cell_type": "code",
   "execution_count": 76,
   "id": "81b408fb",
   "metadata": {},
   "outputs": [],
   "source": [
    "def judgeCircle(moves):\n",
    "    summation=0\n",
    "    data={'R':1,\n",
    "          'L':-1,\n",
    "          'U':1,\n",
    "          'D':-1    \n",
    "    }\n",
    "    for i in list(moves):\n",
    "        summation+=data[i]\n",
    "    print(summation)\n",
    "#     if summation==0:\n",
    "#         return True\n",
    "#     else:\n",
    "#         return False\n",
    "        \n",
    "        "
   ]
  },
  {
   "cell_type": "code",
   "execution_count": 79,
   "id": "d0ecae4c",
   "metadata": {},
   "outputs": [
    {
     "name": "stdout",
     "output_type": "stream",
     "text": [
      "0\n"
     ]
    }
   ],
   "source": [
    "moves = \"RRDD\"\n",
    "judgeCircle(moves)"
   ]
  },
  {
   "cell_type": "code",
   "execution_count": 107,
   "id": "b5d47763",
   "metadata": {},
   "outputs": [],
   "source": [
    "def countSubstrings(s):\n",
    "    count = 0\n",
    "    def pal(s,l,r):\n",
    "        count = 0\n",
    "\n",
    "        while l>=0 and r<len(s) and s[l] == s[r]:\n",
    "            count +=1\n",
    "            l -=1\n",
    "            r +=1\n",
    "        return count        \n",
    "    for i in range(len(s)):\n",
    "        count += pal(s,i,i) # for odd palindroms\n",
    "        count += pal(s,i,i+1) #for even palindroms\n",
    "\n",
    "    return count\n",
    "        "
   ]
  },
  {
   "cell_type": "code",
   "execution_count": 108,
   "id": "fb823637",
   "metadata": {},
   "outputs": [
    {
     "data": {
      "text/plain": [
       "6"
      ]
     },
     "execution_count": 108,
     "metadata": {},
     "output_type": "execute_result"
    }
   ],
   "source": [
    "s = \"aaa\"\n",
    "countSubstrings(s)"
   ]
  },
  {
   "cell_type": "code",
   "execution_count": 124,
   "id": "123cef30",
   "metadata": {},
   "outputs": [],
   "source": [
    "def findLengthOfLCIS(nums):\n",
    "    result=1\n",
    "    count=1\n",
    "    for i in range(len(nums)-1):\n",
    "        \n",
    "        if nums[i]<nums[i+1]:\n",
    "            count+=1\n",
    "        else:\n",
    "            count=1\n",
    "        result=max(result,count)  \n",
    "                \n",
    "    return result"
   ]
  },
  {
   "cell_type": "code",
   "execution_count": 125,
   "id": "9e4c33bb",
   "metadata": {},
   "outputs": [
    {
     "data": {
      "text/plain": [
       "3"
      ]
     },
     "execution_count": 125,
     "metadata": {},
     "output_type": "execute_result"
    }
   ],
   "source": [
    "nums = [1,3,5,4,7]\n",
    "findLengthOfLCIS(nums)"
   ]
  },
  {
   "cell_type": "code",
   "execution_count": 133,
   "id": "2668966b",
   "metadata": {},
   "outputs": [],
   "source": [
    "n=4\n",
    "ans = [[1]*i for i in range(1, n+1)] "
   ]
  },
  {
   "cell_type": "code",
   "execution_count": 134,
   "id": "f08f713b",
   "metadata": {},
   "outputs": [
    {
     "name": "stdout",
     "output_type": "stream",
     "text": [
      "1\n",
      "1\n",
      "2\n"
     ]
    }
   ],
   "source": [
    "for i in range(1, n):\n",
    "    for j in range(1, i):\n",
    "        print(j)"
   ]
  },
  {
   "cell_type": "code",
   "execution_count": 138,
   "id": "6e9dda49",
   "metadata": {},
   "outputs": [
    {
     "name": "stdout",
     "output_type": "stream",
     "text": [
      "[1]\n",
      "[1, 1]\n",
      "[1, 1, 1]\n",
      "[1, 1, 1, 1]\n"
     ]
    }
   ],
   "source": [
    "for i in ans:\n",
    "    print(i)"
   ]
  },
  {
   "cell_type": "code",
   "execution_count": 142,
   "id": "657aa403",
   "metadata": {},
   "outputs": [
    {
     "data": {
      "text/plain": [
       "[1, 1]"
      ]
     },
     "execution_count": 142,
     "metadata": {},
     "output_type": "execute_result"
    }
   ],
   "source": [
    "ans[1]"
   ]
  },
  {
   "cell_type": "code",
   "execution_count": 178,
   "id": "c414a7de",
   "metadata": {},
   "outputs": [],
   "source": [
    "def strStr(haystack, needle):\n",
    "    if len(haystack)==1:\n",
    "        return 0            \n",
    "    l=0\n",
    "    r=len(haystack)\n",
    "    while l<r:\n",
    "        if haystack[l]==list(needle)[0] and haystack[r]==list(needle)[-1]:\n",
    "            return l        \n",
    "        l+=1\n",
    "        r-=1\n",
    "            \n",
    "    return -1\n"
   ]
  },
  {
   "cell_type": "code",
   "execution_count": 179,
   "id": "e152de4f",
   "metadata": {},
   "outputs": [
    {
     "data": {
      "text/plain": [
       "0"
      ]
     },
     "execution_count": 179,
     "metadata": {},
     "output_type": "execute_result"
    }
   ],
   "source": [
    "haystack = \"a\"\n",
    "needle = \"a\"\n",
    "strStr(haystack, needle)"
   ]
  },
  {
   "cell_type": "code",
   "execution_count": 221,
   "id": "1dbc407f",
   "metadata": {},
   "outputs": [],
   "source": [
    "def maxProfit(prices):    \n",
    "    inMind=0\n",
    "    minimum=prices[0]\n",
    "    for i in range(len(prices)):\n",
    "        if minimum>prices[i]:\n",
    "            minimum=prices[i]\n",
    "            inmind=i\n",
    "    min_value=prices[inmind]\n",
    "    for j in range(inmind,len(prices)):\n",
    "        if inmind==len(prices):\n",
    "            return 0\n",
    "        \n",
    "        elif min_value<prices[j]:\n",
    "            min_value=prices[j]\n",
    "    return j\n",
    "        \n",
    "        "
   ]
  },
  {
   "cell_type": "code",
   "execution_count": 222,
   "id": "f23465ab",
   "metadata": {},
   "outputs": [
    {
     "data": {
      "text/plain": [
       "4"
      ]
     },
     "execution_count": 222,
     "metadata": {},
     "output_type": "execute_result"
    }
   ],
   "source": [
    "prices = [7,6,4,3,1]\n",
    "maxProfit(prices)\n"
   ]
  },
  {
   "cell_type": "code",
   "execution_count": 228,
   "id": "3996cae5",
   "metadata": {},
   "outputs": [],
   "source": [
    "def reverse(num):\n",
    "    return int(str(num)[::-1])"
   ]
  },
  {
   "cell_type": "code",
   "execution_count": 230,
   "id": "2d6cf199",
   "metadata": {},
   "outputs": [],
   "source": [
    "def reverse_2(num):\n",
    "    result=[]\n",
    "    for i in range(len(str(num))):\n",
    "        result.append(num%10)\n",
    "        num=num//10\n",
    "    return int(''.join(str(x) for x in result))\n",
    "    "
   ]
  },
  {
   "cell_type": "code",
   "execution_count": 233,
   "id": "111368f1",
   "metadata": {},
   "outputs": [
    {
     "data": {
      "text/plain": [
       "987654321"
      ]
     },
     "execution_count": 233,
     "metadata": {},
     "output_type": "execute_result"
    }
   ],
   "source": [
    "num=123456789\n",
    "# reverse(num)\n",
    "reverse_2(num)"
   ]
  },
  {
   "cell_type": "code",
   "execution_count": 30,
   "id": "4c542d50",
   "metadata": {},
   "outputs": [],
   "source": [
    "def containsDuplicate(nums):\n",
    "    result={}\n",
    "    for i in nums:\n",
    "        if i not in result:\n",
    "            result[i]=1\n",
    "        else:\n",
    "            result[i]+=1\n",
    "#     return result\n",
    "    for value in result.values():\n",
    "        if value!=1:\n",
    "            return True\n",
    "    return False\n"
   ]
  },
  {
   "cell_type": "code",
   "execution_count": 31,
   "id": "1a4816ba",
   "metadata": {},
   "outputs": [
    {
     "data": {
      "text/plain": [
       "True"
      ]
     },
     "execution_count": 31,
     "metadata": {},
     "output_type": "execute_result"
    }
   ],
   "source": [
    "nums = [2,14,18,22,22]\n",
    "containsDuplicate(nums)"
   ]
  },
  {
   "cell_type": "code",
   "execution_count": 55,
   "id": "6774beea",
   "metadata": {},
   "outputs": [],
   "source": [
    "def maximumProduct(nums):\n",
    "    a=sorted(nums)[-3:]\n",
    "    product=1\n",
    "    for i in a:\n",
    "        product*=i\n",
    "    candidate_2 = sorted(nums)[-1]*sorted(nums)[0]*sorted(nums)[1]\n",
    "    result=max(product,candidate_2)\n",
    "    \n",
    "    return result"
   ]
  },
  {
   "cell_type": "code",
   "execution_count": 56,
   "id": "8a6a5f91",
   "metadata": {},
   "outputs": [
    {
     "data": {
      "text/plain": [
       "64"
      ]
     },
     "execution_count": 56,
     "metadata": {},
     "output_type": "execute_result"
    }
   ],
   "source": [
    "nums=[4,8,1,2]\n",
    "maximumProduct(nums)"
   ]
  },
  {
   "cell_type": "code",
   "execution_count": 61,
   "id": "4909cd1d",
   "metadata": {},
   "outputs": [],
   "source": [
    "def findKthLargest(nums, k):\n",
    "    nums=sorted(nums)[::-1]\n",
    "    return nums[k-1]"
   ]
  },
  {
   "cell_type": "code",
   "execution_count": 62,
   "id": "f6dfb0e5",
   "metadata": {},
   "outputs": [
    {
     "data": {
      "text/plain": [
       "5"
      ]
     },
     "execution_count": 62,
     "metadata": {},
     "output_type": "execute_result"
    }
   ],
   "source": [
    "nums = [3,2,1,5,6,4]\n",
    "k=2\n",
    "findKthLargest(nums, k)"
   ]
  },
  {
   "cell_type": "code",
   "execution_count": 87,
   "id": "24a7f3a3",
   "metadata": {},
   "outputs": [],
   "source": [
    "def merge(intervals):\n",
    "    result=[]\n",
    "    for i in range(len(intervals)-1):\n",
    "        if intervals[i][1]>=intervals[i+1][0]:\n",
    "            result.append(intervals[i][1])\n",
    "            result.append(intervals[i+1][1])\n",
    "        else:\n",
    "            result.append(intervals[i][1])\n",
    "            result.append(intervals[i+1][1])\n",
    "    return result\n",
    "    "
   ]
  },
  {
   "cell_type": "code",
   "execution_count": 88,
   "id": "3651e38b",
   "metadata": {},
   "outputs": [
    {
     "name": "stdout",
     "output_type": "stream",
     "text": [
      "NO\n",
      "NO\n"
     ]
    }
   ],
   "source": [
    "merge(intervals)\n",
    "intervals = [[1,3],[2,6],[8,10],[15,18]]"
   ]
  },
  {
   "cell_type": "code",
   "execution_count": 96,
   "id": "072a83b1",
   "metadata": {},
   "outputs": [],
   "source": [
    "def largestNumber(nums):\n",
    "    from itertools import permutations\n",
    "    perm = permutations(nums)\n",
    "    result=[]\n",
    "    for i in perm:\n",
    "        result.append(int(''.join(str(j) for j in i)))\n",
    "    return str(max(result))\n",
    "    "
   ]
  },
  {
   "cell_type": "code",
   "execution_count": 98,
   "id": "faad6b5f",
   "metadata": {},
   "outputs": [
    {
     "data": {
      "text/plain": [
       "'9876543210'"
      ]
     },
     "execution_count": 98,
     "metadata": {},
     "output_type": "execute_result"
    }
   ],
   "source": [
    "nums=[0,9,8,7,6,5,4,3,2,1]\n",
    "largestNumber(nums)"
   ]
  },
  {
   "cell_type": "code",
   "execution_count": 7,
   "id": "333957b5",
   "metadata": {},
   "outputs": [],
   "source": [
    "def intersection(nums1, nums2):\n",
    "    nums1=set(nums1)\n",
    "    nums2=set(nums2)\n",
    "    return list((nums1 & nums2))"
   ]
  },
  {
   "cell_type": "code",
   "execution_count": 8,
   "id": "c2fba4af",
   "metadata": {},
   "outputs": [
    {
     "data": {
      "text/plain": [
       "[9, 4]"
      ]
     },
     "execution_count": 8,
     "metadata": {},
     "output_type": "execute_result"
    }
   ],
   "source": [
    "nums1 = [4,9,5]\n",
    "nums2 = [9,4,9,8,4]\n",
    "intersection(nums1, nums2)"
   ]
  },
  {
   "cell_type": "code",
   "execution_count": 29,
   "id": "0bb7c03b",
   "metadata": {},
   "outputs": [],
   "source": [
    "def groupAnagrams(strs):\n",
    "    d = {}\n",
    "    for w in sorted(strs):\n",
    "        key = tuple(sorted(w))\n",
    "        d[key] = d.get(key, []) + [w]\n",
    "    return d.values()"
   ]
  },
  {
   "cell_type": "code",
   "execution_count": 30,
   "id": "16f076d0",
   "metadata": {},
   "outputs": [
    {
     "data": {
      "text/plain": [
       "dict_values([['ate', 'eat', 'tea'], ['bat'], ['nat', 'tan']])"
      ]
     },
     "execution_count": 30,
     "metadata": {},
     "output_type": "execute_result"
    }
   ],
   "source": [
    "strs = [\"eat\",\"tea\",\"tan\",\"ate\",\"nat\",\"bat\"]\n",
    "groupAnagrams(strs)\n"
   ]
  },
  {
   "cell_type": "code",
   "execution_count": 79,
   "id": "bfe01790",
   "metadata": {},
   "outputs": [],
   "source": [
    "def isHappy(n):     \n",
    "    while n != 1:\n",
    "        n = sum([int(i) ** 2 for i in str(n)])\n",
    "        if n == 4:\n",
    "            return False        \n",
    "        return True"
   ]
  },
  {
   "cell_type": "code",
   "execution_count": 80,
   "id": "269b1752",
   "metadata": {},
   "outputs": [
    {
     "data": {
      "text/plain": [
       "True"
      ]
     },
     "execution_count": 80,
     "metadata": {},
     "output_type": "execute_result"
    }
   ],
   "source": [
    "n=19\n",
    "isHappy(n)"
   ]
  },
  {
   "cell_type": "code",
   "execution_count": 81,
   "id": "afa2f32c",
   "metadata": {},
   "outputs": [],
   "source": [
    "def topKFrequent(nums, k):\n",
    "    import heapq\n",
    "    res = []\n",
    "    dict = {}\n",
    "    for num in nums:\n",
    "        if num not in dict:\n",
    "            dict[num] = 1\n",
    "        else:\n",
    "            dict[num]+=1\n",
    "    for key, val in dict.items():\n",
    "        if len(res) < k:\n",
    "            heapq.heappush(res, [val,key])\n",
    "        else:\n",
    "            heapq.heappushpop(res, [val,key])\n",
    "    return [y for x, y in res]\n"
   ]
  },
  {
   "cell_type": "code",
   "execution_count": 82,
   "id": "d5a190a5",
   "metadata": {},
   "outputs": [
    {
     "data": {
      "text/plain": [
       "[1, 2]"
      ]
     },
     "execution_count": 82,
     "metadata": {},
     "output_type": "execute_result"
    }
   ],
   "source": [
    "nums = [1,2]\n",
    "k = 2\n",
    "topKFrequent(nums, k)"
   ]
  },
  {
   "cell_type": "code",
   "execution_count": 93,
   "id": "d132559f",
   "metadata": {},
   "outputs": [],
   "source": [
    "def isValid(s):\n",
    "    d = {'(':')', '{':'}','[':']'}\n",
    "    stack = []\n",
    "    for i in s:\n",
    "        if i in d:  # 1\n",
    "            stack.append(i)\n",
    "        elif len(stack) == 0 or d[stack.pop()] != i:  # 2\n",
    "            return False\n",
    "    return len(stack) == 0 # 3"
   ]
  },
  {
   "cell_type": "code",
   "execution_count": 94,
   "id": "6e1e95d7",
   "metadata": {},
   "outputs": [
    {
     "data": {
      "text/plain": [
       "True"
      ]
     },
     "execution_count": 94,
     "metadata": {},
     "output_type": "execute_result"
    }
   ],
   "source": [
    "s = \"()[]{}\"\n",
    "isValid(s)"
   ]
  },
  {
   "cell_type": "code",
   "execution_count": 2,
   "id": "61091b62",
   "metadata": {},
   "outputs": [
    {
     "data": {
      "text/plain": [
       "['b', 'b', 'e', 'k', 'l', 'o']"
      ]
     },
     "execution_count": 2,
     "metadata": {},
     "output_type": "execute_result"
    }
   ],
   "source": [
    "a='bekbol'\n",
    "sorted(a)\n"
   ]
  },
  {
   "cell_type": "code",
   "execution_count": 7,
   "id": "95cb258c",
   "metadata": {},
   "outputs": [],
   "source": [
    "def reverseWords(s):\n",
    "    s=s.strip().split()[::-1]\n",
    "    return (' '.join(i for i in s))\n",
    "   "
   ]
  },
  {
   "cell_type": "code",
   "execution_count": 8,
   "id": "16eb06bc",
   "metadata": {},
   "outputs": [
    {
     "data": {
      "text/plain": [
       "'world hello'"
      ]
     },
     "execution_count": 8,
     "metadata": {},
     "output_type": "execute_result"
    }
   ],
   "source": [
    "s=\"  hello world  \"\n",
    "reverseWords(s)"
   ]
  },
  {
   "cell_type": "code",
   "execution_count": 11,
   "id": "d5bd0005",
   "metadata": {},
   "outputs": [],
   "source": [
    "def reverseWords(s):    \n",
    "    return (' '.join(i[::-1] for i in s.split()))"
   ]
  },
  {
   "cell_type": "code",
   "execution_count": 12,
   "id": "2e340e2f",
   "metadata": {},
   "outputs": [
    {
     "data": {
      "text/plain": [
       "\"s'teL ekat edoCteeL tsetnoc\""
      ]
     },
     "execution_count": 12,
     "metadata": {},
     "output_type": "execute_result"
    }
   ],
   "source": [
    "s = \"Let's take LeetCode contest\"\n",
    "reverseWords(s)"
   ]
  },
  {
   "cell_type": "code",
   "execution_count": null,
   "id": "ffabd2fa",
   "metadata": {},
   "outputs": [],
   "source": []
  }
 ],
 "metadata": {
  "kernelspec": {
   "display_name": "Python 3",
   "language": "python",
   "name": "python3"
  },
  "language_info": {
   "codemirror_mode": {
    "name": "ipython",
    "version": 3
   },
   "file_extension": ".py",
   "mimetype": "text/x-python",
   "name": "python",
   "nbconvert_exporter": "python",
   "pygments_lexer": "ipython3",
   "version": "3.8.8"
  }
 },
 "nbformat": 4,
 "nbformat_minor": 5
}
